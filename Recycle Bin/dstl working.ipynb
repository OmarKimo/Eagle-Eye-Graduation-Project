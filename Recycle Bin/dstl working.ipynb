{
  "nbformat": 4,
  "nbformat_minor": 0,
  "metadata": {
    "accelerator": "GPU",
    "colab": {
      "name": "Dstl_Satellite_Imagery_Feature_Detection.ipynb",
      "provenance": [],
      "collapsed_sections": [],
      "toc_visible": true,
      "machine_shape": "hm"
    },
    "kernelspec": {
      "display_name": "Python 3",
      "language": "python",
      "name": "python3"
    },
    "language_info": {
      "codemirror_mode": {
        "name": "ipython",
        "version": 3
      },
      "file_extension": ".py",
      "mimetype": "text/x-python",
      "name": "python",
      "nbconvert_exporter": "python",
      "pygments_lexer": "ipython3",
      "version": "3.6.5"
    },
    "toc": {
      "base_numbering": 1,
      "nav_menu": {},
      "number_sections": true,
      "sideBar": true,
      "skip_h1_title": false,
      "title_cell": "Table of Contents",
      "title_sidebar": "Contents",
      "toc_cell": false,
      "toc_position": {},
      "toc_section_display": true,
      "toc_window_display": false
    },
    "varInspector": {
      "cols": {
        "lenName": 16,
        "lenType": 16,
        "lenVar": 40
      },
      "kernels_config": {
        "python": {
          "delete_cmd_postfix": "",
          "delete_cmd_prefix": "del ",
          "library": "var_list.py",
          "varRefreshCmd": "print(var_dic_list())"
        },
        "r": {
          "delete_cmd_postfix": ") ",
          "delete_cmd_prefix": "rm(",
          "library": "var_list.r",
          "varRefreshCmd": "cat(var_dic_list()) "
        }
      },
      "types_to_exclude": [
        "module",
        "function",
        "builtin_function_or_method",
        "instance",
        "_Feature"
      ],
      "window_display": false
    }
  },
  "cells": [
    {
      "cell_type": "markdown",
      "metadata": {
        "colab_type": "text",
        "id": "sq4u5Wl_z9Le"
      },
      "source": [
        "<h1> Dstl Satellite Imagery Feature Detection </h1>"
      ]
    },
    {
      "cell_type": "markdown",
      "metadata": {
        "colab_type": "text",
        "id": "bZ3ydu_pz9Li"
      },
      "source": [
        "## 1. Business Problem"
      ]
    },
    {
      "cell_type": "markdown",
      "metadata": {
        "colab_type": "text",
        "id": "IjOcUxwyz9Ll"
      },
      "source": [
        "## 1.1 Description"
      ]
    },
    {
      "cell_type": "markdown",
      "metadata": {
        "colab_type": "text",
        "id": "Cw2RP2O0z9MD"
      },
      "source": [
        "Dstl's Satellite Imagery competition, which ran on Kaggle from December 2016 to March 2017, challenged Kagglers to identify and label significant features like waterways, buildings, and vehicles from multi-spectral overhead imagery. Automating feature labeling will not only help Dstl make smart decisions more quickly around the defense and security of the UK, but also bring innovation to computer vision methodologies applied to satellite imagery."
      ]
    },
    {
      "cell_type": "markdown",
      "metadata": {
        "colab_type": "text",
        "id": "DraCWISLz9MI"
      },
      "source": [
        "<p style='font-size:18px'><b> Problem Statemtent </b></p>\n",
        "\n",
        "In this competition, Dstl provides you with 1km x 1km satellite images in both 3-band and 16-band formats. Your goal is to detect and classify the types of objects found in these regions.\n",
        "\n",
        "3- and 16-bands images\n",
        "\n",
        "There are two types of imagery spectral content provided in this competition. The 3-band images are the traditional RGB natural color images. The 16-band images contain spectral information by capturing wider wavelength channels. This multi-band imagery is taken from the multispectral (400 – 1040nm) and short-wave infrared (SWIR) (1195-2365nm) range."
      ]
    },
    {
      "cell_type": "markdown",
      "metadata": {
        "colab_type": "text",
        "id": "M1zFh7yYz9MM"
      },
      "source": [
        "<p style='font-size:18px'><b> Source:  </b> https://www.kaggle.com/c/dstl-satellite-imagery-feature-detection/overview </p>"
      ]
    },
    {
      "cell_type": "markdown",
      "metadata": {
        "colab_type": "text",
        "id": "3X25j29wz9MO"
      },
      "source": [
        "<h1> 2. Deep Learning problem </h1>\n",
        "<h2> 2.1 Data \n",
        "<h3> 2.1.1 Data Overview </h3>"
      ]
    },
    {
      "cell_type": "markdown",
      "metadata": {
        "ExecuteTime": {
          "end_time": "2019-11-30T13:41:59.507802Z",
          "start_time": "2019-11-30T13:41:59.502785Z"
        },
        "colab_type": "text",
        "id": "Jx_S7Eyqz9MQ"
      },
      "source": [
        "Refer: https://www.kaggle.com/c/dstl-satellite-imagery-feature-detection/data\n",
        "<br>All of the data is in 5 files: <br/>\n",
        "\n",
        "1. __train_wkt.csv__ - the WKT format of all the training labels.\n",
        " - ImageId - ID of the image\n",
        " - ClassType - type of objects (1-10)\n",
        " - MultipolygonWKT - the labeled area, which is multipolygon geometry represented in WKT format.\n",
        " \n",
        " \n",
        "2. __three_band.zip__ - the complete dataset of 3-band satellite images. The three bands are in the images with file name = {ImageId}.tif. MD5 = 7cf7bf17ba3fa3198a401ef67f4ef9b4\n",
        "\n",
        "\n",
        "3. __sixteen_band.zip__ - the complete dataset of 16-band satellite images. The 16 bands are distributed in the images with file name = {ImageId}_{A/M/P}.tif. MD5 = e2949f19a0d1102827fce35117c5f08a\n",
        "\n",
        "\n",
        "4. __grid_sizes.csv__ - the sizes of grids for all the images\n",
        "   - ImageId - ID of the image\n",
        "   - Xmax - maximum X coordinate for the image\n",
        "   - Ymin - minimum Y coordinate for the image\n",
        "\n",
        "\n",
        "5. __train_geojson.zip__ - the geojson format of all the training labels(essentially these are the same information as train_wkt.csv)  \n",
        "\n",
        "\n",
        "> All imagery credit to: Satellite Imagery © DigitalGlobe, Inc.\n",
        "\n",
        "Imagery details\n",
        "- Sensor : WorldView 3\n",
        "- Wavebands :\n",
        "   - Panchromatic: 450-800 nm\n",
        "   - 8 Multispectral: (red, red edge, coastal, blue, green, yellow, near-IR1 and near-IR2) 400 nm - 1040 nm\n",
        "   - 8 SWIR: 1195 nm - 2365 nm\n",
        "- Sensor Resolution (GSD) at Nadir :\n",
        "    - Panchromatic: 0.31m \n",
        "    - Multispectral: 1.24 m\n",
        "    - SWIR: Delivered at 7.5m\n",
        "- Dynamic Range\n",
        "    Panchromatic and multispectral : 11-bits per pixel\n",
        "    SWIR : 14-bits per pixel\n",
        "\n"
      ]
    },
    {
      "cell_type": "markdown",
      "metadata": {
        "colab_type": "text",
        "id": "47F4x-v0z9MS"
      },
      "source": [
        "<h3>2.1.2 Object types</h3>"
      ]
    },
    {
      "cell_type": "markdown",
      "metadata": {
        "colab_type": "text",
        "id": "cPSJzD1qz9MT"
      },
      "source": [
        "In a satellite image, you will find lots of different objects like roads, buildings, vehicles, farms, trees, water ways, etc. Dstl has labeled 10 different classes:\n",
        "\n",
        "1. __Buildings__ - large building, residential, non-residential, fuel storage facility, fortified building\n",
        "2. __Misc. Manmade structures__\n",
        "3. __Road__\n",
        "4. __Track__ - poor/dirt/cart track, footpath/trail\n",
        "5. __Trees__ - woodland, hedgerows, groups of trees, standalone trees\n",
        "6. __Crops__ - contour ploughing/cropland, grain (wheat) crops, row (potatoes, turnips) crops\n",
        "7. __Waterway__ \n",
        "8. __Standing water__\n",
        "9. __Vehicle Large__ - large vehicle (e.g. lorry, truck,bus), logistics vehicle\n",
        "10. __Vehicle Small__ - small vehicle (car, van), motorbike\n",
        "\n",
        "Every object class is described in the form of Polygons and MultiPolygons, which are simply a list of polygons. We provide two different formats for these shapes: __[GeoJson](https://geojson.org/)__ and __[WKT](https://en.wikipedia.org/wiki/Well-known_text_representation_of_geometry)__. These are both open source formats for geo-spatial shapes. "
      ]
    },
    {
      "cell_type": "markdown",
      "metadata": {
        "colab_type": "text",
        "id": "qEAmk8BYz9MU"
      },
      "source": [
        "<h2>2.2 Mapping the real world problem to a Deep Learning Problem </h2>"
      ]
    },
    {
      "cell_type": "markdown",
      "metadata": {
        "colab_type": "text",
        "id": "Xm-UCwqEz9MU"
      },
      "source": [
        "<h3> 2.2.1 Type of Machine Learning Problem </h3>"
      ]
    },
    {
      "cell_type": "markdown",
      "metadata": {
        "colab_type": "text",
        "id": "IfQJG1Lnz9MW"
      },
      "source": [
        "<pre>\n",
        "Goal is to detect and classify the types of objects found in these regions.\n",
        "Object detection problem like roads, building, vehicles, farms, trees, water way etc.\n",
        "</pre>"
      ]
    },
    {
      "cell_type": "markdown",
      "metadata": {
        "ExecuteTime": {
          "end_time": "2019-12-01T07:54:45.422941Z",
          "start_time": "2019-12-01T07:54:45.414945Z"
        },
        "colab_type": "text",
        "id": "RmXJ5n8nz9MY"
      },
      "source": [
        "<h3> 2.2.2 Performance Metric </h3>"
      ]
    },
    {
      "cell_type": "markdown",
      "metadata": {
        "colab_type": "text",
        "id": "GeHc8zUoz9Ma"
      },
      "source": [
        "__Average Jaccard Index__ between the predicted multipolygons and the actual multipolygons.\n",
        "- The __[Jaccard Index](https://en.wikipedia.org/wiki/Jaccard_index)__ for two regions A and B, also known as the \"intersection over union\", is defined as:\n",
        "\n",
        "$ Jaccard = {\\frac{TP}{TP+FP+FN} }= {{|A \\cap B|}\\over{|A \\cup B|}} = {{|A \\cap B|}\\over{|A| + |B| - |A \\cap B|}} $"
      ]
    },
    {
      "cell_type": "code",
      "metadata": {
        "colab_type": "code",
        "id": "yh17AwjV0Ico",
        "colab": {}
      },
      "source": [
        "!mkdir .kaggle"
      ],
      "execution_count": 0,
      "outputs": []
    },
    {
      "cell_type": "code",
      "metadata": {
        "id": "X77Uxq3gUzpT",
        "colab_type": "code",
        "colab": {}
      },
      "source": [
        "with open(\".kaggle/kaggle.json\", 'w+') as f:\n",
        "  f.write('{\"username\":\"omarkimo\",\"key\":\"9ba7f9345e3cd8b307568c8febe41bd2\"}')"
      ],
      "execution_count": 0,
      "outputs": []
    },
    {
      "cell_type": "code",
      "metadata": {
        "colab_type": "code",
        "id": "H-U3e7QFB352",
        "colab": {}
      },
      "source": [
        "!cp /content/.kaggle/kaggle.json ~/.kaggle/kaggle.json"
      ],
      "execution_count": 0,
      "outputs": []
    },
    {
      "cell_type": "code",
      "metadata": {
        "colab_type": "code",
        "id": "aKiQhEr11E46",
        "outputId": "dd9a4426-8399-4d74-ebb2-881060248583",
        "colab": {
          "base_uri": "https://localhost:8080/",
          "height": 73
        }
      },
      "source": [
        "!kaggle config set -n path -v{/content}"
      ],
      "execution_count": 0,
      "outputs": [
        {
          "output_type": "stream",
          "text": [
            "Warning: Your Kaggle API key is readable by other users on this system! To fix this, you can run 'chmod 600 /root/.kaggle/kaggle.json'\n",
            "- path is now set to: {/content}\n"
          ],
          "name": "stdout"
        }
      ]
    },
    {
      "cell_type": "code",
      "metadata": {
        "colab_type": "code",
        "id": "aFmlsrOX2d1L",
        "colab": {}
      },
      "source": [
        "!chmod 600 /root/.kaggle/kaggle.json"
      ],
      "execution_count": 0,
      "outputs": []
    },
    {
      "cell_type": "code",
      "metadata": {
        "colab_type": "code",
        "id": "xIVDOPQV2kND",
        "outputId": "9fcf4195-02c2-43c3-a0b7-8263e8a1fa92",
        "colab": {
          "base_uri": "https://localhost:8080/",
          "height": 362
        }
      },
      "source": [
        "!kaggle competitions download -c dstl-satellite-imagery-feature-detection -p /content"
      ],
      "execution_count": 0,
      "outputs": [
        {
          "output_type": "stream",
          "text": [
            "Warning: Looks like you're using an outdated API Version, please consider updating (server 1.5.6 / client 1.5.4)\n",
            "Downloading train_wkt_v4.csv.zip to /content\n",
            "\r  0% 0.00/11.1M [00:00<?, ?B/s]\r 45% 5.00M/11.1M [00:00<00:00, 14.3MB/s]\n",
            "\r100% 11.1M/11.1M [00:00<00:00, 28.1MB/s]\n",
            "Downloading three_band.zip to /content\n",
            "100% 12.9G/12.9G [05:15<00:00, 49.1MB/s]\n",
            "100% 12.9G/12.9G [05:15<00:00, 43.8MB/s]\n",
            "Downloading train_geojson_v3.zip to /content\n",
            " 35% 5.00M/14.2M [00:00<00:00, 11.2MB/s]\n",
            "100% 14.2M/14.2M [00:00<00:00, 29.0MB/s]\n",
            "Downloading sixteen_band.zip to /content\n",
            "100% 7.29G/7.30G [03:26<00:00, 30.7MB/s]\n",
            "100% 7.30G/7.30G [03:26<00:00, 37.9MB/s]\n",
            "Downloading sample_submission.csv.zip to /content\n",
            "  0% 0.00/14.9k [00:00<?, ?B/s]\n",
            "100% 14.9k/14.9k [00:00<00:00, 15.3MB/s]\n",
            "Downloading grid_sizes.csv.zip to /content\n",
            "  0% 0.00/2.17k [00:00<?, ?B/s]\n",
            "100% 2.17k/2.17k [00:00<00:00, 2.25MB/s]\n"
          ],
          "name": "stdout"
        }
      ]
    },
    {
      "cell_type": "code",
      "metadata": {
        "id": "R8bo7qf2Xq2A",
        "colab_type": "code",
        "colab": {}
      },
      "source": [
        "funzip('/content/grid_sizes.csv.zip')"
      ],
      "execution_count": 0,
      "outputs": []
    },
    {
      "cell_type": "code",
      "metadata": {
        "id": "_gqGgPxoXzZq",
        "colab_type": "code",
        "colab": {}
      },
      "source": [
        "\n",
        "with zipfile.ZipFile('/content/new/sixteen_band.zip') as z:\n",
        "  for i in range(5):\n",
        "    for j in range(5):\n",
        "      s = \"6010_\" + str(i) + \"_\"+str(j)\n",
        "      with open('/content/sixteen_band/'+ s + '_A.tif', 'wb+') as f:\n",
        "        f.write(z.read('sixteen_band/'+ s + '_A.tif'))\n",
        "      with open('/content/sixteen_band/'+ s + '_P.tif', 'wb+') as f:\n",
        "        f.write(z.read('sixteen_band/'+ s + '_P.tif'))\n",
        "      with open('/content/sixteen_band/'+ s + '_M.tif', 'wb+') as f:\n",
        "        f.write(z.read('sixteen_band/'+ s + '_M.tif'))"
      ],
      "execution_count": 0,
      "outputs": []
    },
    {
      "cell_type": "code",
      "metadata": {
        "id": "2TnY_acifltu",
        "colab_type": "code",
        "colab": {}
      },
      "source": [
        "\n",
        "with zipfile.ZipFile('/content/three_band.zip') as z:\n",
        "  for i in range(5):\n",
        "    for j in range(5):\n",
        "      s = \"6010_\" + str(i) + \"_\"+str(j)\n",
        "      with open('/content/three_band/'+ s + '.tif', 'wb+') as f:\n",
        "        f.write(z.read('three_band/'+ s + '.tif'))"
      ],
      "execution_count": 0,
      "outputs": []
    },
    {
      "cell_type": "code",
      "metadata": {
        "id": "wExD8eMUXzDp",
        "colab_type": "code",
        "colab": {}
      },
      "source": [
        "funzip('/content/three_band.zip')"
      ],
      "execution_count": 0,
      "outputs": []
    },
    {
      "cell_type": "code",
      "metadata": {
        "id": "PubE6jbbXy_6",
        "colab_type": "code",
        "colab": {}
      },
      "source": [
        "!unzip /content/train_geojson_v3.zip"
      ],
      "execution_count": 0,
      "outputs": []
    },
    {
      "cell_type": "code",
      "metadata": {
        "id": "csYeT9ZPXy8q",
        "colab_type": "code",
        "colab": {}
      },
      "source": [
        "funzip('/content/train_wkt_v4.csv.zip')"
      ],
      "execution_count": 0,
      "outputs": []
    },
    {
      "cell_type": "code",
      "metadata": {
        "id": "j-CLWI5OXyrz",
        "colab_type": "code",
        "colab": {}
      },
      "source": [
        "funzip('/content/sample_submission.csv.zip')"
      ],
      "execution_count": 0,
      "outputs": []
    },
    {
      "cell_type": "code",
      "metadata": {
        "id": "woI9kLUog6DN",
        "colab_type": "code",
        "colab": {}
      },
      "source": [
        "!rm -r -d train_geojson_v3/6040_1_3\n",
        "!rm -r -d train_geojson_v3/6040_2_2\n",
        "!rm -r -d train_geojson_v3/6040_4_4\n",
        "!rm -r -d train_geojson_v3/6060_2_3\n",
        "!rm -r -d train_geojson_v3/6070_2_3\n",
        "!rm -r -d train_geojson_v3/6090_2_0\n",
        "!rm -r -d train_geojson_v3/6100_1_3\n",
        "!rm -r -d train_geojson_v3/6100_2_3\n",
        "!rm -r -d train_geojson_v3/6100_2_2\n",
        "!rm -r -d train_geojson_v3/6110_1_2\n",
        "!rm -r -d train_geojson_v3/6110_3_1\n",
        "!rm -r -d train_geojson_v3/6110_4_0\n",
        "!rm -r -d train_geojson_v3/6120_2_0\n",
        "!rm -r -d train_geojson_v3/6120_2_2\n",
        "!rm -r -d train_geojson_v3/6140_1_2\n",
        "!rm -r -d train_geojson_v3/6140_3_1\n",
        "!rm -r -d train_geojson_v3/6150_2_3\n",
        "!rm -r -d train_geojson_v3/6160_2_1\n",
        "!rm -r -d train_geojson_v3/6170_0_4\n",
        "!rm -r -d train_geojson_v3/6170_2_4\n",
        "!rm -r -d train_geojson_v3/6170_4_1\n"
      ],
      "execution_count": 0,
      "outputs": []
    },
    {
      "cell_type": "code",
      "metadata": {
        "id": "5uc2RwlKrjBn",
        "colab_type": "code",
        "colab": {}
      },
      "source": [
        "!rm -r -d sixteen_band"
      ],
      "execution_count": 0,
      "outputs": []
    },
    {
      "cell_type": "code",
      "metadata": {
        "id": "OgJ52Hzmsska",
        "colab_type": "code",
        "colab": {}
      },
      "source": [
        "!mkdir data msk subm weights three_band sixteen_band"
      ],
      "execution_count": 0,
      "outputs": []
    },
    {
      "cell_type": "code",
      "metadata": {
        "id": "ZeiMSdZwbXCt",
        "colab_type": "code",
        "colab": {}
      },
      "source": [
        "!mv /content/new/sixteen_band.zip /content/sixteen_band.zip"
      ],
      "execution_count": 0,
      "outputs": []
    },
    {
      "cell_type": "code",
      "metadata": {
        "id": "7qoOOjpacSTd",
        "colab_type": "code",
        "colab": {}
      },
      "source": [
        "!cp /content/new/sixteen_band.zip \"/content/drive/My Drive/\""
      ],
      "execution_count": 0,
      "outputs": []
    },
    {
      "cell_type": "code",
      "metadata": {
        "id": "Y_52SLKnjAye",
        "colab_type": "code",
        "colab": {}
      },
      "source": [
        "!cp /content/three_band.zip \"/content/drive/My Drive/\""
      ],
      "execution_count": 0,
      "outputs": []
    },
    {
      "cell_type": "code",
      "metadata": {
        "id": "wYAWpVAf6gAP",
        "colab_type": "code",
        "colab": {}
      },
      "source": [
        "!unzip /content/drive/My\\ Drive/dstl/sixteen_band.zip"
      ],
      "execution_count": 0,
      "outputs": []
    },
    {
      "cell_type": "code",
      "metadata": {
        "id": "vbdfYLMf8Vog",
        "colab_type": "code",
        "colab": {}
      },
      "source": [
        "!unzip /content/drive/My\\ Drive/dstl/three_band.zip -d /content/drive/My\\ Drive/dstl/"
      ],
      "execution_count": 0,
      "outputs": []
    },
    {
      "cell_type": "markdown",
      "metadata": {
        "id": "shtzFgs06f55",
        "colab_type": "text"
      },
      "source": [
        ""
      ]
    },
    {
      "cell_type": "markdown",
      "metadata": {
        "id": "_G2mEOxT6fiq",
        "colab_type": "text"
      },
      "source": [
        ""
      ]
    },
    {
      "cell_type": "code",
      "metadata": {
        "id": "ipntovlUjAma",
        "colab_type": "code",
        "colab": {}
      },
      "source": [
        "!cp -r /content/data \"/content/drive/My Drive/\""
      ],
      "execution_count": 0,
      "outputs": []
    },
    {
      "cell_type": "code",
      "metadata": {
        "id": "aLDIaA4Z4RXV",
        "colab_type": "code",
        "colab": {}
      },
      "source": [
        "!cp -r /content/train_geojson_v3 \"/content/drive/My Drive/\"\n",
        "!cp -r /content/train_wkt_v4.csv \"/content/drive/My Drive/\"\n",
        "!cp -r /content/grid_sizes.csv \"/content/drive/My Drive/\"\n",
        "!cp -r /content/sample_submission.csv \"/content/drive/My Drive/\""
      ],
      "execution_count": 0,
      "outputs": []
    },
    {
      "cell_type": "code",
      "metadata": {
        "id": "uwnO-4_W4RUA",
        "colab_type": "code",
        "colab": {}
      },
      "source": [
        "!cp -r /content/train_geojson_v3.zip \"/content/drive/My Drive/\""
      ],
      "execution_count": 0,
      "outputs": []
    },
    {
      "cell_type": "code",
      "metadata": {
        "id": "4p7D89j7xwNw",
        "colab_type": "code",
        "colab": {}
      },
      "source": [
        "!mkdir data msk subm weights"
      ],
      "execution_count": 0,
      "outputs": []
    },
    {
      "cell_type": "code",
      "metadata": {
        "id": "gcHD4lvkYWjq",
        "colab_type": "code",
        "outputId": "dd0d9a7c-4b19-4967-9f8d-df1b728497af",
        "colab": {
          "base_uri": "https://localhost:8080/",
          "height": 55
        }
      },
      "source": [
        "from google.colab import drive\n",
        "drive.mount('/content/drive')"
      ],
      "execution_count": 5,
      "outputs": [
        {
          "output_type": "stream",
          "text": [
            "Drive already mounted at /content/drive; to attempt to forcibly remount, call drive.mount(\"/content/drive\", force_remount=True).\n"
          ],
          "name": "stdout"
        }
      ]
    },
    {
      "cell_type": "code",
      "metadata": {
        "id": "9T-cByXjjAr0",
        "colab_type": "code",
        "outputId": "864a5221-31e3-4681-8545-25ff0899e1ef",
        "colab": {
          "base_uri": "https://localhost:8080/",
          "height": 35
        }
      },
      "source": [
        "%tensorflow_version 1.x"
      ],
      "execution_count": 1,
      "outputs": [
        {
          "output_type": "stream",
          "text": [
            "TensorFlow 1.x selected.\n"
          ],
          "name": "stdout"
        }
      ]
    },
    {
      "cell_type": "code",
      "metadata": {
        "colab_type": "code",
        "id": "-XbfkU7BeziQ",
        "outputId": "573c7bc0-ab8b-40fc-fe66-c8be78c355c2",
        "colab": {
          "base_uri": "https://localhost:8080/",
          "height": 92
        }
      },
      "source": [
        "import tensorflow\n",
        "import pandas as pd\n",
        "import numpy as np\n",
        "from shapely.wkt import loads           # https://pypi.org/project/Shapely/\n",
        "from matplotlib.patches import Polygon, Patch  # plot Polygon using Matplotlib:https://matplotlib.org/3.1.1/api/_as_gen/matplotlib.patches.Polygon.html\n",
        "import matplotlib.pyplot as plt\n",
        "from sklearn.metrics import jaccard_similarity_score\n",
        "from collections import defaultdict\n",
        "from shapely.geometry import MultiPolygon, Polygon\n",
        "import shapely.wkt\n",
        "import shapely.affinity\n",
        "import os\n",
        "import zipfile\n",
        "!pip install tifffile\n",
        "import tifffile as tiff\n",
        "import cv2"
      ],
      "execution_count": 2,
      "outputs": [
        {
          "output_type": "stream",
          "text": [
            "Requirement already satisfied: tifffile in /usr/local/lib/python3.6/dist-packages (2020.5.7)\n",
            "Requirement already satisfied: numpy>=1.15.1 in /usr/local/lib/python3.6/dist-packages (from tifffile) (1.18.4)\n",
            "Requirement already satisfied: imagecodecs>=2020.2.18 in /usr/local/lib/python3.6/dist-packages (from tifffile) (2020.2.18)\n"
          ],
          "name": "stdout"
        }
      ]
    },
    {
      "cell_type": "code",
      "metadata": {
        "ExecuteTime": {
          "end_time": "2019-12-12T20:10:43.394643Z",
          "start_time": "2019-12-12T20:10:43.389653Z"
        },
        "colab_type": "code",
        "id": "2VkQkmyUz9Nx",
        "colab": {}
      },
      "source": [
        "tr_wkt = pd.read_csv('/content/drive/My Drive/dstl/train_wkt_v4.csv')  # Well-known text Multipolygon\n",
        "grid_sizes = pd.read_csv('/content/drive/My Drive/dstl/grid_sizes.csv', names=['ImageId', 'Xmax', 'Ymin'], skiprows=1)\n",
        "\n",
        "def convert_coordinates(coords, img_size, xy_coords):\n",
        "    '''\n",
        "    Convert all image coordinates given range\n",
        "    '''\n",
        "    # https://www.kaggle.com/visoft/dstl-satellite-imagery-feature-detection/export-pixel-wise-mask\n",
        "    Xmax, Ymin = xy_coords              # Xmax - maximum X coordinate for the image\n",
        "                                        # Ymin - minimum Y coordinate for the image\n",
        "    Height, Weight = img_size            # image sizes\n",
        "    W = 1.0 * Weight * Weight / (Weight + 1)\n",
        "    H = 1.0 * Height * Height / (Height + 1)\n",
        "    xf = W / Xmax\n",
        "    yf = H / Ymin\n",
        "    coords[:, 1] *= yf\n",
        "    coords[:, 0] *= xf\n",
        "    coords_int = np.round(coords).astype(np.int32)\n",
        "    return coords_int\n",
        "def get_xmax_ymin(GS, imageId):\n",
        "    '''\n",
        "    Find maximum coordinates for x and minimun coordinates for y\n",
        "    ''' \n",
        "    xmax, ymin = GS[GS.ImageId == imageId].iloc[0, 1:].astype(float)\n",
        "    return (xmax, ymin)\n",
        "def get_polygon_list(wkt_list, imageId, cType):\n",
        "    '''\n",
        "    Find polygon list for all images with there class label\n",
        "    '''\n",
        "    # https://www.kaggle.com/visoft/dstl-satellite-imagery-feature-detection/export-pixel-wise-mask\n",
        "    df_image = wkt_list[wkt_list.ImageId == imageId]\n",
        "    multipoly_def = df_image[df_image.ClassType == cType].MultipolygonWKT\n",
        "    polygonList = None\n",
        "    if len(multipoly_def) > 0:\n",
        "        assert len(multipoly_def) == 1\n",
        "        polygonList = loads(multipoly_def.values[0])\n",
        "    return polygonList\n",
        "def get_and_convert_contours(polygonList, img_size, xy_coods):\n",
        "    # https://www.kaggle.com/visoft/dstl-satellite-imagery-feature-detection/export-pixel-wise-mask\n",
        "    perim_list = []\n",
        "    interior_list = []\n",
        "    if polygonList is None:\n",
        "        return None\n",
        "    for k in range(len(polygonList)):\n",
        "        poly = polygonList[k]\n",
        "        perim = np.array(list(poly.exterior.coords))\n",
        "        perim_c = convert_coordinates(perim, img_size, xy_coods)\n",
        "        perim_list.append(perim_c)\n",
        "        for pi in poly.interiors:\n",
        "            interior = np.array(list(pi.coords))\n",
        "            interior_c = convert_coordinates(interior, img_size, xy_coods)\n",
        "            interior_list.append(interior_c)\n",
        "    return perim_list, interior_list\n",
        "def plot_mask_from_contours(img_size, contours):\n",
        "    # https://www.kaggle.com/visoft/dstl-satellite-imagery-feature-detection/export-pixel-wise-mask\n",
        "    img_mask = np.zeros(img_size, np.uint8)\n",
        "    if contours is None:\n",
        "        return img_mask\n",
        "    perim_list, interior_list = contours\n",
        "    cv2.fillPoly(img_mask, perim_list,1)    \n",
        "    cv2.fillPoly(img_mask, interior_list,0)\n",
        "    return img_mask\n",
        "def generate_mask_for_image_and_class(img_size, imageId, class_type, GS=grid_sizes, wkt_list=tr_wkt):\n",
        "    '''\n",
        "    Fill polygons exterior and interior points and return mask of images\n",
        "    '''\n",
        "    xy_coods = get_xmax_ymin(GS, imageId)\n",
        "    polygon_list = get_polygon_list(wkt_list, imageId, class_type)\n",
        "    contours = get_and_convert_contours(polygon_list, img_size, xy_coods)\n",
        "    mask = plot_mask_from_contours(img_size, contours)\n",
        "    return mask\n",
        "def all_image(image_id, dims=20, size=800):\n",
        "    if dims==3:\n",
        "        filename = \"three_band/{}.tif\".format(image_id)\n",
        "        img = tiff.imread(filename)\n",
        "        img = np.rollaxis(img, 0, 3)\n",
        "        img = cv2.resize(img, (size, size))\n",
        "        \n",
        "    elif dims==8:\n",
        "        filename = \"sixteen_band/{}_M.tif\".format(image_id)\n",
        "        img = tiff.imread(filename)\n",
        "        img = np.rollaxis(img, 0, 3)\n",
        "        img = cv2.resize(img, (size, size))\n",
        "        \n",
        "    elif dims==20:\n",
        "        # zz3 = zipfile.ZipFile('/content/three_band.zip')\n",
        "        # zz6 = zipfile.ZipFile('/content/sixteen_band.zip')\n",
        "        # with open('/content/three_band/'+ str(image_id) + '.tif', 'wb+') as f:\n",
        "        #     f.write(zz3.read('three_band/'+ str(image_id) + '.tif'))\n",
        "        # with open('/content/sixteen_band/'+ str(image_id) + '_A.tif', 'wb+') as f:\n",
        "        #     f.write(zz6.read('sixteen_band/'+ str(image_id) + '_A.tif'))\n",
        "        # with open('/content/sixteen_band/'+ str(image_id) + '_P.tif', 'wb+') as f:\n",
        "        #     f.write(zz6.read('sixteen_band/'+ str(image_id) + '_P.tif'))\n",
        "        # with open('/content/sixteen_band/'+ str(image_id) + '_M.tif', 'wb+') as f:\n",
        "        #     f.write(zz6.read('sixteen_band/'+ str(image_id) + '_M.tif'))\n",
        "        # zz3.close()\n",
        "        # zz6.close()\n",
        "        # for type M \n",
        "        img_M = np.transpose(tiff.imread(\"/content/drive/My Drive/dstl/sixteen_band/{}_M.tif\".format(image_id)), (1,2,0))\n",
        "        img_M = cv2.resize(img_M, (size, size))\n",
        "        # for type A\n",
        "        img_A = np.transpose(tiff.imread(\"/content/drive/My Drive/dstl/sixteen_band/{}_A.tif\".format(image_id)), (1,2,0))\n",
        "        img_A = cv2.resize(img_A, (size, size))\n",
        "        # for type P\n",
        "        img_P = tiff.imread(\"/content/drive/My Drive/dstl/sixteen_band/{}_P.tif\".format(image_id))\n",
        "        img_P = cv2.resize(img_P, (size, size))\n",
        "\n",
        "        filename = \"/content/drive/My Drive/dstl/three_band/{}.tif\".format(image_id)\n",
        "        # for RGB \n",
        "        img_RGB = tiff.imread(filename)\n",
        "        img_RGB = np.rollaxis(img_RGB, 0, 3)\n",
        "        img_RGB = cv2.resize(img_RGB, (size, size))\n",
        "\n",
        "        img = np.zeros((img_RGB.shape[0], img_RGB.shape[1], dims), \"float32\")\n",
        "        img[..., 0:3] = img_RGB\n",
        "        img[..., 3] = img_P\n",
        "        img[..., 4:12] = img_M\n",
        "        img[..., 12:21] = img_A\n",
        "        \n",
        "        # os.remove('three_band/'+ str(image_id) + '.tif')\n",
        "        # os.remove('sixteen_band/'+ str(image_id) + '_A.tif')\n",
        "        # os.remove('sixteen_band/'+ str(image_id) + '_P.tif')\n",
        "        # os.remove('sixteen_band/'+ str(image_id) + '_M.tif')\n",
        "\n",
        "    return img"
      ],
      "execution_count": 0,
      "outputs": []
    },
    {
      "cell_type": "code",
      "metadata": {
        "ExecuteTime": {
          "end_time": "2019-12-12T20:11:41.289081Z",
          "start_time": "2019-12-12T20:11:41.283082Z"
        },
        "colab_type": "code",
        "id": "buVdioP7z9OV",
        "colab": {}
      },
      "source": [
        "def stretch_n(img, lower_percent=5, higher_percent=95):    # https://www.kaggle.com/aamaia/rgb-using-m-bands-example\n",
        "    out = np.zeros_like(img, dtype=np.float32)\n",
        "    n = img.shape[2]\n",
        "    for i in range(n):\n",
        "        a = 0       # np.min(img)\n",
        "        b = 1       # np.max(img)\n",
        "        c = np.percentile(img[:, :, i], lower_percent)\n",
        "        d = np.percentile(img[:, :, i], higher_percent)\n",
        "        t = a + (img[:, :, i] - c) * (b - a) / (d - c)\n",
        "        t[t < a] = a\n",
        "        t[t > b] = b\n",
        "        out[:, :, i] = t\n",
        "    return out.astype(np.float32)\n",
        "smooth = 1e-12\n",
        "def jaccard_coef(y_true, y_pred):\n",
        "    # # __author__ = Vladimir Iglovikov\n",
        "    intersection = K.sum(y_true * y_pred, axis=[0, -1, -2])\n",
        "    sum_ = K.sum(y_true + y_pred, axis=[0, -1, -2])\n",
        "    jac = (intersection + smooth) / (sum_ - intersection + smooth)\n",
        "    return K.mean(jac)\n",
        "\n",
        "def jaccard_coef_int(y_true, y_pred):\n",
        "    y_pred_pos = K.round(K.clip(y_pred, 0, 1))\n",
        "    intersection = K.sum(y_true * y_pred_pos, axis=[0, -1, -2])\n",
        "    sum_ = K.sum(y_true + y_pred_pos, axis=[0, -1, -2])\n",
        "    jac = (intersection + smooth) / (sum_ - intersection + smooth)\n",
        "    return K.mean(jac)"
      ],
      "execution_count": 0,
      "outputs": []
    },
    {
      "cell_type": "code",
      "metadata": {
        "ExecuteTime": {
          "end_time": "2019-12-12T20:11:48.683127Z",
          "start_time": "2019-12-12T20:11:48.674135Z"
        },
        "colab_type": "code",
        "id": "YO27qAkqz9Oi",
        "colab": {}
      },
      "source": [
        "N_Cls = 10 # total number of class\n",
        "def stick_all_train():\n",
        "    print(\"let's stick all imgs together\")\n",
        "    s = 800 # 800 is the size of the all images\n",
        "\n",
        "    x = np.zeros((5 * s, 5 * s, 20))        # the array has the dimensions of 5 images wide and 5 images high. 20 Channels\n",
        "    y = np.zeros((5 * s, 5 * s, N_Cls))\n",
        "\n",
        "    ids = sorted(tr_wkt.ImageId.unique())\n",
        "    print(len(ids))\n",
        "    for i in range(5):\n",
        "        for j in range(5):\n",
        "            id = ids[5 * i + j]\n",
        "            tmp = str(id).split('_')\n",
        "            num = int(tmp[0])\n",
        "            #if num >= 6100: break\n",
        "            img = all_image(id)\n",
        "            img = stretch_n(img)\n",
        "            print(img.shape, id, np.amax(img), np.amin(img))\n",
        "            x[s * i:s * i + s, s * j:s * j + s, :] = img[:s, :s, :]\n",
        "            for z in range(N_Cls):\n",
        "                y[s * i:s * i + s, s * j:s * j + s, z] = generate_mask_for_image_and_class((img.shape[0], img.shape[1]), id, z + 1)[:s, :s]\n",
        "\n",
        "    print(np.amax(y), np.amin(y))\n",
        "\n",
        "    np.save('data/x_trn_%d' % N_Cls, x)\n",
        "    np.save('data/y_trn_%d' % N_Cls, y)\n",
        "\n",
        "def get_patches(img, msk, amt=2500, aug=True):\n",
        "    is2 = int(1.0 * ISZ)\n",
        "    xm, ym = img.shape[0] - is2, img.shape[1] - is2\n",
        "\n",
        "    x, y = [], []\n",
        "\n",
        "    tr = [0.4, 0.1, 0.1, 0.15, 0.3, 0.95, 0.1, 0.05, 0.001, 0.005]      # threshold for all class which is the best for pixels\n",
        "    for i in range(amt):\n",
        "        xc = random.randint(0, xm)\n",
        "        yc = random.randint(0, ym)\n",
        "\n",
        "        im = img[xc:xc + is2, yc:yc + is2]        # generate random image\n",
        "        ms = msk[xc:xc + is2, yc:yc + is2]        # generate random mask \n",
        "\n",
        "        for j in range(N_Cls):\n",
        "            sm = np.sum(ms[:, :, j])\n",
        "            if 1.0 * sm / is2 ** 2 > tr[j]:\n",
        "                if aug:\n",
        "                    if random.uniform(0, 1) > 0.5:\n",
        "                        im = im[::-1]\n",
        "                        ms = ms[::-1]\n",
        "                    if random.uniform(0, 1) > 0.5:\n",
        "                        im = im[:, ::-1]\n",
        "                        ms = ms[:, ::-1]\n",
        "\n",
        "                x.append(im)\n",
        "                y.append(ms)\n",
        "\n",
        "    x, y = 2 * np.transpose(x, (0, 3, 1, 2)) - 1, np.transpose(y, (0, 3, 1, 2))\n",
        "    print(x.shape, y.shape, np.amax(x), np.amin(x), np.amax(y), np.amin(y))\n",
        "    return x, y"
      ],
      "execution_count": 0,
      "outputs": []
    },
    {
      "cell_type": "markdown",
      "metadata": {
        "colab_type": "text",
        "id": "Sn3ztTCNz9Ot"
      },
      "source": [
        "## Split train and validation data"
      ]
    },
    {
      "cell_type": "code",
      "metadata": {
        "ExecuteTime": {
          "end_time": "2019-12-12T20:12:18.245686Z",
          "start_time": "2019-12-12T20:12:18.238690Z"
        },
        "colab_type": "code",
        "id": "l9N-MOOjz9Ou",
        "colab": {}
      },
      "source": [
        "def make_val():\n",
        "    print(\"let's pick some samples for validation\")\n",
        "    img = np.load('data/x_trn_%d.npy' % N_Cls)\n",
        "    msk = np.load('data/y_trn_%d.npy' % N_Cls)\n",
        "    x, y = get_patches(img, msk, amt=1500)  # ########################################changed \n",
        "\n",
        "    np.save('data/x_tmp_%d' % N_Cls, x)\n",
        "    np.save('data/y_tmp_%d' % N_Cls, y)"
      ],
      "execution_count": 0,
      "outputs": []
    },
    {
      "cell_type": "code",
      "metadata": {
        "ExecuteTime": {
          "end_time": "2019-12-08T20:26:51.194407Z",
          "start_time": "2019-12-08T20:26:51.174418Z"
        },
        "colab_type": "code",
        "id": "1EQUH8Rhz9Ow",
        "outputId": "9865e4d0-4070-49a9-f56b-b62233819331",
        "colab": {
          "base_uri": "https://localhost:8080/",
          "height": 35
        }
      },
      "source": [
        "import random\n",
        "from keras.models import Model, load_model\n",
        "from keras.layers import Input, concatenate, Conv2D, MaxPooling2D, UpSampling2D, Reshape, core, Dropout, BatchNormalization\n",
        "from keras.optimizers import Adam\n",
        "from keras.callbacks import ModelCheckpoint, LearningRateScheduler\n",
        "from keras import backend as K\n",
        "#K.set_image_dim_ordering('th')\n",
        "K.set_image_data_format('channels_first')"
      ],
      "execution_count": 7,
      "outputs": [
        {
          "output_type": "stream",
          "text": [
            "Using TensorFlow backend.\n"
          ],
          "name": "stderr"
        }
      ]
    },
    {
      "cell_type": "code",
      "metadata": {
        "ExecuteTime": {
          "end_time": "2019-12-12T20:12:26.955186Z",
          "start_time": "2019-12-12T20:12:26.941214Z"
        },
        "colab_type": "code",
        "id": "hVkjr1Wjz9O0",
        "colab": {}
      },
      "source": [
        "ISZ = 160\n",
        "def get_unet():\n",
        "    inputs = Input((20, ISZ, ISZ))\n",
        "    conv1 = Conv2D(32, 3, activation='relu', padding='same')(inputs)\n",
        "    conv1 = Conv2D(32, 3, activation='relu', padding='same')(conv1)\n",
        "    pool1 = MaxPooling2D(pool_size=(2, 2))(conv1)\n",
        "\n",
        "    conv2 = Conv2D(64, 3, activation='relu', padding='same')(pool1)\n",
        "    conv2 = Conv2D(64, 3, activation='relu', padding='same')(conv2)\n",
        "    pool2 = MaxPooling2D(pool_size=(2, 2))(conv2)\n",
        "\n",
        "    conv3 = Conv2D(128, 3, activation='relu', padding='same')(pool2)\n",
        "    conv3 = Conv2D(128, 3, activation='relu', padding='same')(conv3)\n",
        "    pool3 = MaxPooling2D(pool_size=(2, 2))(conv3)\n",
        "\n",
        "    conv4 = Conv2D(256, 3, activation='relu', padding='same')(pool3)\n",
        "    conv4 = Conv2D(256, 3, activation='relu', padding='same')(conv4)\n",
        "    pool4 = MaxPooling2D(pool_size=(2, 2))(conv4)\n",
        "\n",
        "    conv5 = Conv2D(512, 3, activation='relu', padding ='same')(pool4)\n",
        "    conv5 = Conv2D(512, 3, activation='relu', padding ='same')(conv5)\n",
        "    \n",
        "    up6 = concatenate([UpSampling2D(size=(2, 2))(conv5), conv4], axis=1)\n",
        "    conv6 = Conv2D(256, 3, activation='relu', padding='same')(up6)\n",
        "    conv6 = Conv2D(256, 3, activation='relu', padding='same')(conv6)\n",
        "    \n",
        "    up7 = concatenate([UpSampling2D(size=(2, 2))(conv6), conv3], axis=1)\n",
        "    conv7 = Conv2D(128, 3, activation='relu', padding='same')(up7)\n",
        "    conv7 = Conv2D(128, 3, activation='relu', padding='same')(conv7)\n",
        "\n",
        "    up8 = concatenate([UpSampling2D(size=(2, 2))(conv7), conv2], axis=1)\n",
        "    conv8 = Conv2D(64, 3, activation='relu', padding='same')(up8)\n",
        "    conv8 = Conv2D(64, 3, activation='relu', padding='same')(conv8)\n",
        "\n",
        "    up9 = concatenate([UpSampling2D(size=(2, 2))(conv8), conv1], axis=1)\n",
        "    conv9 = Conv2D(32, 3, activation='relu', padding='same')(up9)\n",
        "    conv9 = Conv2D(32, 3, activation='relu', padding='same')(conv9)\n",
        "\n",
        "    conv10 = Conv2D(N_Cls, 1, activation='sigmoid')(conv9)\n",
        "\n",
        "    model = Model(input=inputs, output=conv10)\n",
        "    model.compile(optimizer=Adam(), loss='binary_crossentropy', metrics=[jaccard_coef, jaccard_coef_int, 'accuracy'])\n",
        "    return model"
      ],
      "execution_count": 0,
      "outputs": []
    },
    {
      "cell_type": "code",
      "metadata": {
        "ExecuteTime": {
          "end_time": "2019-12-08T20:35:34.197961Z",
          "start_time": "2019-12-08T20:35:33.204003Z"
        },
        "colab_type": "code",
        "id": "zRvdplzmz9O3",
        "colab": {}
      },
      "source": [
        "model = get_unet()\n",
        "#model.summary()"
      ],
      "execution_count": 0,
      "outputs": []
    },
    {
      "cell_type": "code",
      "metadata": {
        "ExecuteTime": {
          "end_time": "2019-12-08T20:39:30.968702Z",
          "start_time": "2019-12-08T20:39:25.490222Z"
        },
        "colab_type": "code",
        "id": "-7hlKPYSz9O5",
        "colab": {}
      },
      "source": [
        "import keras\n",
        "import pydot\n",
        "from keras.utils import plot_model\n",
        "import pydotplus\n",
        "from keras.utils.vis_utils import model_to_dot\n",
        "keras.utils.vis_utils.pydot = pydot\n",
        "plot_model(model, show_shapes=True, show_layer_names=True, to_file='model.png')\n",
        "from IPython.display import Image\n",
        "Image(retina=True, filename='model.png');"
      ],
      "execution_count": 0,
      "outputs": []
    },
    {
      "cell_type": "code",
      "metadata": {
        "ExecuteTime": {
          "end_time": "2019-12-09T11:56:48.025856Z",
          "start_time": "2019-12-09T11:56:47.862948Z"
        },
        "colab_type": "code",
        "id": "TjVfc0Ebz9O_",
        "colab": {}
      },
      "source": [
        "def calc_jacc(model):\n",
        "    img = np.load('data/x_tmp_%d.npy' % N_Cls)\n",
        "    msk = np.load('data/y_tmp_%d.npy' % N_Cls)\n",
        "\n",
        "    prd = model.predict(img, batch_size=4)\n",
        "    print(prd.shape, msk.shape)\n",
        "    avg, trs = [], []\n",
        "\n",
        "    for i in range(N_Cls):\n",
        "        t_msk = msk[:, i, :, :]\n",
        "        t_prd = prd[:, i, :, :]\n",
        "        t_msk = t_msk.reshape(msk.shape[0] * msk.shape[2], msk.shape[3])\n",
        "        t_prd = t_prd.reshape(msk.shape[0] * msk.shape[2], msk.shape[3])\n",
        "\n",
        "        m, b_tr = 0, 0\n",
        "        for j in range(10):\n",
        "            tr = j / 10.0\n",
        "            pred_binary_mask = t_prd > tr\n",
        "\n",
        "            jk = jaccard_similarity_score(t_msk, pred_binary_mask)      # calculate jaccard similarity for predict mask and actual mask\n",
        "            if jk > m:\n",
        "                m = jk\n",
        "                b_tr = tr\n",
        "        print(i, m, b_tr)\n",
        "        avg.append(m)\n",
        "        trs.append(b_tr)\n",
        "\n",
        "    score = sum(avg) / 10.0\n",
        "    return score, trs"
      ],
      "execution_count": 0,
      "outputs": []
    },
    {
      "cell_type": "code",
      "metadata": {
        "ExecuteTime": {
          "end_time": "2019-12-12T20:12:45.721307Z",
          "start_time": "2019-12-12T20:12:45.711311Z"
        },
        "colab_type": "code",
        "id": "xY3JdS3sz9PQ",
        "colab": {}
      },
      "source": [
        "def train_net():\n",
        "    print(\"start train net\")\n",
        "    x_val, y_val = np.load('data/x_tmp_%d.npy' % N_Cls), np.load('data/y_tmp_%d.npy' % N_Cls)    # load validate data\n",
        "    print('here1')\n",
        "    img = np.load('data/x_trn_%d.npy' % N_Cls)\n",
        "    print('here2')\n",
        "    msk = np.load('data/y_trn_%d.npy' % N_Cls)\n",
        "    print('here3')\n",
        "    x_trn, y_trn = get_patches(img, msk)    # generate train data\n",
        "    print('here4')\n",
        "    #model = get_unet()      # call model\n",
        "  \n",
        "    model_checkpoint = ModelCheckpoint('weights/unet_tmp.hdf5', monitor='loss', save_best_only=True)   # moniter loss function\n",
        "    tensorboard_callback = keras.callbacks.TensorBoard(log_dir='./logs')          #tensorflow histogram for ploting\n",
        "    arr = []\n",
        "    for i in range(2):\n",
        "        model.fit(x_trn, y_trn, batch_size=64, nb_epoch=5, verbose=1, shuffle=True,\n",
        "                  callbacks=[model_checkpoint,tensorboard_callback], validation_data=(x_val, y_val))       # fit model\n",
        "        del x_trn\n",
        "        del y_trn\n",
        "        x_trn, y_trn = get_patches(img, msk)\n",
        "        score, trs = calc_jacc(model)\n",
        "        print('val jk', score)\n",
        "        arr.append(score)\n",
        "        model.save_weights('weights/unet_10_jk%.4f' % score)       #save weights \n",
        "    os.rename('weights/unet_10_jk{}'.format(score[1]), 'weights/unet_10_jk_BestScore')\n",
        "\n",
        "    return model"
      ],
      "execution_count": 0,
      "outputs": []
    },
    {
      "cell_type": "code",
      "metadata": {
        "ExecuteTime": {
          "end_time": "2019-12-09T13:11:02.694052Z",
          "start_time": "2019-12-09T13:11:02.652075Z"
        },
        "colab_type": "code",
        "id": "NoEwTPs8z9PS",
        "outputId": "5221aa53-32e2-4806-9a33-891a5de14851",
        "colab": {
          "base_uri": "https://localhost:8080/",
          "height": 531
        }
      },
      "source": [
        "stick_all_train()"
      ],
      "execution_count": 17,
      "outputs": [
        {
          "output_type": "stream",
          "text": [
            "let's stick all imgs together\n",
            "25\n",
            "(800, 800, 20) 6010_1_2 1.0 0.0\n",
            "(800, 800, 20) 6010_4_2 1.0 0.0\n",
            "(800, 800, 20) 6010_4_4 1.0 0.0\n",
            "(800, 800, 20) 6040_1_0 1.0 0.0\n",
            "(800, 800, 20) 6040_1_3 1.0 0.0\n",
            "(800, 800, 20) 6040_2_2 1.0 0.0\n",
            "(800, 800, 20) 6040_4_4 1.0 0.0\n",
            "(800, 800, 20) 6060_2_3 1.0 0.0\n",
            "(800, 800, 20) 6070_2_3 1.0 0.0\n",
            "(800, 800, 20) 6090_2_0 1.0 0.0\n",
            "(800, 800, 20) 6100_1_3 1.0 0.0\n",
            "(800, 800, 20) 6100_2_2 1.0 0.0\n",
            "(800, 800, 20) 6100_2_3 1.0 0.0\n",
            "(800, 800, 20) 6110_1_2 1.0 0.0\n",
            "(800, 800, 20) 6110_3_1 1.0 0.0\n",
            "(800, 800, 20) 6110_4_0 1.0 0.0\n",
            "(800, 800, 20) 6120_2_0 1.0 0.0\n",
            "(800, 800, 20) 6120_2_2 1.0 0.0\n",
            "(800, 800, 20) 6140_1_2 1.0 0.0\n",
            "(800, 800, 20) 6140_3_1 1.0 0.0\n",
            "(800, 800, 20) 6150_2_3 1.0 0.0\n",
            "(800, 800, 20) 6160_2_1 1.0 0.0\n",
            "(800, 800, 20) 6170_0_4 1.0 0.0\n",
            "(800, 800, 20) 6170_2_4 1.0 0.0\n",
            "(800, 800, 20) 6170_4_1 1.0 0.0\n",
            "1.0 0.0\n"
          ],
          "name": "stdout"
        }
      ]
    },
    {
      "cell_type": "code",
      "metadata": {
        "colab_type": "code",
        "id": "9AsvLByLz9PU",
        "outputId": "140b2b36-bd9e-48ff-ec95-7e7bc8ebcbb6",
        "colab": {
          "base_uri": "https://localhost:8080/",
          "height": 54
        }
      },
      "source": [
        "make_val()"
      ],
      "execution_count": 20,
      "outputs": [
        {
          "output_type": "stream",
          "text": [
            "let's pick some samples for validation\n",
            "(497, 20, 160, 160) (497, 10, 160, 160) 1.0 -1.0 1.0 0.0\n"
          ],
          "name": "stdout"
        }
      ]
    },
    {
      "cell_type": "code",
      "metadata": {
        "colab_type": "code",
        "id": "aD_UpQONYjAr",
        "colab": {}
      },
      "source": [
        "import warnings\n",
        "warnings.filterwarnings(\"default\", category=DeprecationWarning)"
      ],
      "execution_count": 0,
      "outputs": []
    },
    {
      "cell_type": "code",
      "metadata": {
        "colab_type": "code",
        "id": "AOTBm8x0KoHX",
        "outputId": "1931f716-9c5e-4b6d-d0a9-feee8da11d53",
        "colab": {
          "base_uri": "https://localhost:8080/",
          "height": 1000
        }
      },
      "source": [
        "model = train_net()"
      ],
      "execution_count": 22,
      "outputs": [
        {
          "output_type": "stream",
          "text": [
            "start train net\n",
            "here1\n",
            "here2\n",
            "here3\n",
            "(908, 20, 160, 160) (908, 10, 160, 160) 1.0 -1.0 1.0 0.0\n",
            "here4\n"
          ],
          "name": "stdout"
        },
        {
          "output_type": "stream",
          "text": [
            "/usr/local/lib/python3.6/dist-packages/ipykernel_launcher.py:17: UserWarning: The `nb_epoch` argument in `fit` has been renamed `epochs`.\n"
          ],
          "name": "stderr"
        },
        {
          "output_type": "stream",
          "text": [
            "WARNING:tensorflow:From /usr/local/lib/python3.6/dist-packages/keras/backend/tensorflow_backend.py:422: The name tf.global_variables is deprecated. Please use tf.compat.v1.global_variables instead.\n",
            "\n",
            "Train on 908 samples, validate on 497 samples\n",
            "WARNING:tensorflow:From /usr/local/lib/python3.6/dist-packages/keras/callbacks/tensorboard_v1.py:200: The name tf.summary.merge_all is deprecated. Please use tf.compat.v1.summary.merge_all instead.\n",
            "\n",
            "WARNING:tensorflow:From /usr/local/lib/python3.6/dist-packages/keras/callbacks/tensorboard_v1.py:203: The name tf.summary.FileWriter is deprecated. Please use tf.compat.v1.summary.FileWriter instead.\n",
            "\n",
            "Epoch 1/5\n",
            "908/908 [==============================] - 45s 49ms/step - loss: 0.4403 - jaccard_coef: 0.0563 - jaccard_coef_int: 0.0379 - accuracy: 0.8492 - val_loss: 0.2136 - val_jaccard_coef: 0.0593 - val_jaccard_coef_int: 0.0539 - val_accuracy: 0.9412\n",
            "WARNING:tensorflow:From /usr/local/lib/python3.6/dist-packages/keras/callbacks/tensorboard_v1.py:343: The name tf.Summary is deprecated. Please use tf.compat.v1.Summary instead.\n",
            "\n",
            "Epoch 2/5\n",
            "908/908 [==============================] - 24s 27ms/step - loss: 0.1933 - jaccard_coef: 0.0604 - jaccard_coef_int: 0.0411 - accuracy: 0.9375 - val_loss: 0.1757 - val_jaccard_coef: 0.0654 - val_jaccard_coef_int: 0.0561 - val_accuracy: 0.9448\n",
            "Epoch 3/5\n",
            "908/908 [==============================] - 25s 27ms/step - loss: 0.1680 - jaccard_coef: 0.0726 - jaccard_coef_int: 0.0622 - accuracy: 0.9443 - val_loss: 0.1547 - val_jaccard_coef: 0.0772 - val_jaccard_coef_int: 0.0569 - val_accuracy: 0.9452\n",
            "Epoch 4/5\n",
            "908/908 [==============================] - 24s 27ms/step - loss: 0.1507 - jaccard_coef: 0.0872 - jaccard_coef_int: 0.0644 - accuracy: 0.9467 - val_loss: 0.1424 - val_jaccard_coef: 0.0944 - val_jaccard_coef_int: 0.0822 - val_accuracy: 0.9495\n",
            "Epoch 5/5\n",
            "908/908 [==============================] - 24s 27ms/step - loss: 0.1446 - jaccard_coef: 0.0977 - jaccard_coef_int: 0.0870 - accuracy: 0.9487 - val_loss: 0.1445 - val_jaccard_coef: 0.0992 - val_jaccard_coef_int: 0.1014 - val_accuracy: 0.9487\n",
            "(913, 20, 160, 160) (913, 10, 160, 160) 1.0 -1.0 1.0 0.0\n",
            "(497, 10, 160, 160) (497, 10, 160, 160)\n"
          ],
          "name": "stdout"
        },
        {
          "output_type": "stream",
          "text": [
            "/usr/local/lib/python3.6/dist-packages/sklearn/metrics/_classification.py:664: FutureWarning: jaccard_similarity_score has been deprecated and replaced with jaccard_score. It will be removed in version 0.23. This implementation has surprising behavior for binary and multiclass classification tasks.\n",
            "  FutureWarning)\n"
          ],
          "name": "stderr"
        },
        {
          "output_type": "stream",
          "text": [
            "0 0.6985789738430583 0.6\n",
            "1 0.6317781690140845 0.7\n",
            "2 0.83783953722334 0.5\n",
            "3 0.39587525150905434 0.5\n",
            "4 0.3797093628035005 0.3\n",
            "5 0.705454171948847 0.6\n",
            "6 0.9440392354124748 0.7\n",
            "7 0.9670145875251509 0.5\n",
            "8 0.9894114688128772 0.4\n",
            "9 0.9478244466800805 0.4\n",
            "val jk 0.7497525204772467\n",
            "Train on 913 samples, validate on 497 samples\n",
            "Epoch 1/5\n",
            "913/913 [==============================] - 28s 31ms/step - loss: 0.1386 - jaccard_coef: 0.1048 - jaccard_coef_int: 0.1010 - accuracy: 0.9489 - val_loss: 0.1320 - val_jaccard_coef: 0.1020 - val_jaccard_coef_int: 0.1054 - val_accuracy: 0.9526\n",
            "Epoch 2/5\n",
            "913/913 [==============================] - 25s 27ms/step - loss: 0.1290 - jaccard_coef: 0.1148 - jaccard_coef_int: 0.1167 - accuracy: 0.9537 - val_loss: 0.1304 - val_jaccard_coef: 0.1144 - val_jaccard_coef_int: 0.1235 - val_accuracy: 0.9533\n",
            "Epoch 3/5\n",
            "913/913 [==============================] - 25s 27ms/step - loss: 0.1248 - jaccard_coef: 0.1228 - jaccard_coef_int: 0.1251 - accuracy: 0.9556 - val_loss: 0.1312 - val_jaccard_coef: 0.1346 - val_jaccard_coef_int: 0.1336 - val_accuracy: 0.9542\n",
            "Epoch 4/5\n",
            "913/913 [==============================] - 25s 27ms/step - loss: 0.1348 - jaccard_coef: 0.1215 - jaccard_coef_int: 0.1379 - accuracy: 0.9528 - val_loss: 0.1250 - val_jaccard_coef: 0.1117 - val_jaccard_coef_int: 0.1039 - val_accuracy: 0.9567\n",
            "Epoch 5/5\n",
            "913/913 [==============================] - 25s 27ms/step - loss: 0.1177 - jaccard_coef: 0.1334 - jaccard_coef_int: 0.1427 - accuracy: 0.9589 - val_loss: 0.1131 - val_jaccard_coef: 0.1443 - val_jaccard_coef_int: 0.1794 - val_accuracy: 0.9606\n",
            "(859, 20, 160, 160) (859, 10, 160, 160) 1.0 -1.0 1.0 0.0\n",
            "(497, 10, 160, 160) (497, 10, 160, 160)\n",
            "0 0.7119545482212725 0.4\n",
            "1 0.6317781690140845 0.5\n",
            "2 0.83783953722334 0.4\n",
            "3 0.39587525150905434 0.4\n",
            "4 0.41503253109388 0.4\n",
            "5 0.8437582846697278 0.6\n",
            "6 0.9596849605636677 0.7\n",
            "7 0.9670145875251509 0.3\n",
            "8 0.9894114688128772 0.3\n",
            "9 0.9478244466800805 0.2\n",
            "val jk 0.7700173785313135\n"
          ],
          "name": "stdout"
        }
      ]
    },
    {
      "cell_type": "code",
      "metadata": {
        "colab_type": "code",
        "id": "U_KKdf66z9PZ",
        "colab": {
          "base_uri": "https://localhost:8080/",
          "height": 276
        },
        "outputId": "6955c4f7-6404-45d8-fe7a-0e2f39d5d1c0"
      },
      "source": [
        "# call calc_jacc for calculate score\n",
        "score, trs = calc_jacc(model)"
      ],
      "execution_count": 23,
      "outputs": [
        {
          "output_type": "stream",
          "text": [
            "(497, 10, 160, 160) (497, 10, 160, 160)\n"
          ],
          "name": "stdout"
        },
        {
          "output_type": "stream",
          "text": [
            "/usr/local/lib/python3.6/dist-packages/sklearn/metrics/_classification.py:664: FutureWarning: jaccard_similarity_score has been deprecated and replaced with jaccard_score. It will be removed in version 0.23. This implementation has surprising behavior for binary and multiclass classification tasks.\n",
            "  FutureWarning)\n"
          ],
          "name": "stderr"
        },
        {
          "output_type": "stream",
          "text": [
            "0 0.7119545482212725 0.4\n",
            "1 0.6317781690140845 0.5\n",
            "2 0.83783953722334 0.4\n",
            "3 0.39587525150905434 0.4\n",
            "4 0.41503253109388 0.4\n",
            "5 0.8437582846697278 0.6\n",
            "6 0.9596849605636677 0.7\n",
            "7 0.9670145875251509 0.3\n",
            "8 0.9894114688128772 0.3\n",
            "9 0.9478244466800805 0.2\n"
          ],
          "name": "stdout"
        }
      ]
    },
    {
      "cell_type": "markdown",
      "metadata": {
        "colab_type": "text",
        "id": "uAyYONC-lpH9"
      },
      "source": [
        "# Prediction for test data"
      ]
    },
    {
      "cell_type": "markdown",
      "metadata": {
        "colab_type": "text",
        "id": "PPB5vamPoShW"
      },
      "source": [
        "## Create Mask for polygons"
      ]
    },
    {
      "cell_type": "code",
      "metadata": {
        "ExecuteTime": {
          "end_time": "2019-12-12T20:13:08.499789Z",
          "start_time": "2019-12-12T20:13:08.492794Z"
        },
        "colab_type": "code",
        "id": "fp_uF0evoBbw",
        "colab": {}
      },
      "source": [
        "def mask_for_polygons(polygons, im_size):\n",
        "    # __author__ = Konstantin Lopuhin\n",
        "    # https://www.kaggle.com/lopuhin/dstl-satellite-imagery-feature-detection/full-pipeline-demo-poly-pixels-ml-poly\n",
        "    img_mask = np.zeros(im_size, np.uint8)\n",
        "    if not polygons:\n",
        "        return img_mask\n",
        "    int_coords = lambda x: np.array(x).round().astype(np.int32)\n",
        "    exteriors = [int_coords(poly.exterior.coords) for poly in polygons]\n",
        "    interiors = [int_coords(pi.coords) for poly in polygons\n",
        "                 for pi in poly.interiors]\n",
        "    cv2.fillPoly(img_mask, exteriors, 1)\n",
        "    cv2.fillPoly(img_mask, interiors, 0)\n",
        "    return img_mask"
      ],
      "execution_count": 0,
      "outputs": []
    },
    {
      "cell_type": "markdown",
      "metadata": {
        "colab_type": "text",
        "id": "p0RnNV4HoRAq"
      },
      "source": [
        "## Mask to polygon for submation "
      ]
    },
    {
      "cell_type": "code",
      "metadata": {
        "ExecuteTime": {
          "end_time": "2019-12-12T20:13:11.026094Z",
          "start_time": "2019-12-12T20:13:11.014106Z"
        },
        "colab_type": "code",
        "id": "KOHiA3Cnlh9T",
        "colab": {}
      },
      "source": [
        "def mask_to_polygons(mask, epsilon=1, min_area=10):\n",
        "    # https://www.kaggle.com/lopuhin/dstl-satellite-imagery-feature-detection/full-pipeline-demo-poly-pixels-ml-poly\n",
        "\n",
        "    # first, find contours with cv2: it's much faster than shapely\n",
        "    contours, hierarchy = cv2.findContours(((mask == 1) * 255).astype(np.uint8),cv2.RETR_CCOMP, cv2.CHAIN_APPROX_TC89_KCOS)\n",
        "    # create approximate contours to have reasonable submission size\n",
        "    approx_contours = [cv2.approxPolyDP(cnt, epsilon, True) for cnt in contours]\n",
        "    if not contours:\n",
        "        return MultiPolygon()\n",
        "    # now messy stuff to associate parent and child contours\n",
        "    cnt_children = defaultdict(list)\n",
        "    child_contours = set()\n",
        "    assert hierarchy.shape[0] == 1\n",
        "    # http://docs.opencv.org/3.1.0/d9/d8b/tutorial_py_contours_hierarchy.html\n",
        "    for idx, (_, _, _, parent_idx) in enumerate(hierarchy[0]):\n",
        "        if parent_idx != -1:\n",
        "            child_contours.add(idx)\n",
        "            cnt_children[parent_idx].append(approx_contours[idx])\n",
        "    # create actual polygons filtering by area (removes artifacts)\n",
        "    all_polygons = []\n",
        "    for idx, cnt in enumerate(approx_contours):\n",
        "        if idx not in child_contours and cv2.contourArea(cnt) >= min_area:\n",
        "            assert cnt.shape[1] == 1\n",
        "            poly = Polygon(\n",
        "                shell=cnt[:, 0, :],\n",
        "                holes=[c[:, 0, :] for c in cnt_children.get(idx, [])\n",
        "                       if cv2.contourArea(c) >= min_area])\n",
        "            all_polygons.append(poly)\n",
        "    # approximating polygons might have created invalid ones, fix them\n",
        "    all_polygons = MultiPolygon(all_polygons)\n",
        "    if not all_polygons.is_valid:\n",
        "        all_polygons = all_polygons.buffer(0)\n",
        "        # Sometimes buffer() converts a simple Multipolygon to just a Polygon,\n",
        "        # need to keep it a Multi throughout\n",
        "        if all_polygons.type == 'Polygon':\n",
        "            all_polygons = MultiPolygon([all_polygons])\n",
        "    return all_polygons"
      ],
      "execution_count": 0,
      "outputs": []
    },
    {
      "cell_type": "code",
      "metadata": {
        "ExecuteTime": {
          "end_time": "2019-12-12T20:13:14.896874Z",
          "start_time": "2019-12-12T20:13:14.889877Z"
        },
        "colab_type": "code",
        "id": "NL3GL69gnUVD",
        "colab": {}
      },
      "source": [
        "def predict_id(id, model, trs):\n",
        "    img = all_image(id)\n",
        "    x = stretch_n(img)\n",
        "\n",
        "    cnv = np.zeros((960, 960, 20)).astype(np.float32)\n",
        "    prd = np.zeros((N_Cls, 960, 960)).astype(np.float32)\n",
        "    cnv[:img.shape[0], :img.shape[1], :] = x\n",
        "\n",
        "    for i in range(0, 6):\n",
        "        line = []\n",
        "        for j in range(0, 6):\n",
        "            line.append(cnv[i * ISZ:(i + 1) * ISZ, j * ISZ:(j + 1) * ISZ])\n",
        "\n",
        "        x = 2 * np.transpose(line, (0, 3, 1, 2)) - 1\n",
        "        tmp = model.predict(x, batch_size=4)\n",
        "        for j in range(tmp.shape[0]):\n",
        "            prd[:, i * ISZ:(i + 1) * ISZ, j * ISZ:(j + 1) * ISZ] = tmp[j]\n",
        "\n",
        "    for i in range(N_Cls):\n",
        "        prd[i] = prd[i] > trs[i]\n",
        "\n",
        "    return prd[:, :img.shape[0], :img.shape[1]]"
      ],
      "execution_count": 0,
      "outputs": []
    },
    {
      "cell_type": "code",
      "metadata": {
        "ExecuteTime": {
          "end_time": "2019-12-12T20:13:15.797069Z",
          "start_time": "2019-12-12T20:13:15.792073Z"
        },
        "colab_type": "code",
        "id": "w17Ionz0pTLE",
        "colab": {}
      },
      "source": [
        "def predict_test(model, trs):\n",
        "    print(\"predict test\")\n",
        "    for i, id in enumerate(sorted(set(submission['ImageId'].tolist()))):\n",
        "        msk = predict_id(id, model, trs)\n",
        "        np.save('msk/10_%s' % id, msk)\n",
        "        if i % 100 == 0:\n",
        "            print(i, id)"
      ],
      "execution_count": 0,
      "outputs": []
    },
    {
      "cell_type": "code",
      "metadata": {
        "colab_type": "code",
        "id": "10ufuuSur6fc",
        "colab": {}
      },
      "source": [
        "submission = pd.read_csv('/content/drive/My Drive/dstl/sample_submission.csv')\n",
        "submission.head()"
      ],
      "execution_count": 0,
      "outputs": []
    },
    {
      "cell_type": "code",
      "metadata": {
        "colab_type": "code",
        "id": "Pv4iIVx4rqZ2",
        "outputId": "53b24720-64e9-4759-ce5f-f0117c21774e",
        "colab": {
          "base_uri": "https://localhost:8080/",
          "height": 127
        }
      },
      "source": [
        "predict_test(model, trs)"
      ],
      "execution_count": 33,
      "outputs": [
        {
          "output_type": "stream",
          "text": [
            "predict test\n",
            "0 6010_0_0\n",
            "100 6050_1_0\n",
            "200 6090_1_1\n",
            "300 6130_2_4\n",
            "400 6170_4_0\n"
          ],
          "name": "stdout"
        }
      ]
    },
    {
      "cell_type": "markdown",
      "metadata": {
        "colab_type": "text",
        "id": "FSf_VZC-zBeN"
      },
      "source": [
        "## Scale image for submission"
      ]
    },
    {
      "cell_type": "code",
      "metadata": {
        "ExecuteTime": {
          "end_time": "2019-12-12T20:13:27.107982Z",
          "start_time": "2019-12-12T20:13:27.102985Z"
        },
        "colab_type": "code",
        "id": "5sKU3GlezGwy",
        "colab": {}
      },
      "source": [
        "def get_scalers(im_size, x_max, y_min):\n",
        "    h, w = im_size  # they are flipped so that mask_for_polygons works correctly\n",
        "    h, w = float(h), float(w)\n",
        "    w_ = 1.0 * w * (w / (w + 1))\n",
        "    h_ = 1.0 * h * (h / (h + 1))\n",
        "    return w_ / x_max, h_ / y_min"
      ],
      "execution_count": 0,
      "outputs": []
    },
    {
      "cell_type": "markdown",
      "metadata": {
        "colab_type": "text",
        "id": "Ni7_pDDWxjxC"
      },
      "source": [
        "## Make submassion on kaggle"
      ]
    },
    {
      "cell_type": "code",
      "metadata": {
        "ExecuteTime": {
          "end_time": "2019-12-12T20:13:29.511546Z",
          "start_time": "2019-12-12T20:13:29.503551Z"
        },
        "colab_type": "code",
        "id": "m5GjhmV3xHRd",
        "colab": {}
      },
      "source": [
        "def make_submit():\n",
        "    \"\"\"\n",
        "    Creates the final submission by loading all raw predictions, creating 0-1 masks by thresholding them and\n",
        "    creating Multipolygons from these masks.\n",
        "    \"\"\"\n",
        "    print(\"make submission file\")\n",
        "    for idx, row in submission.iterrows():\n",
        "        id = row[0]\n",
        "        kls = row[1] - 1\n",
        "        # Get the prediction from the respective class model and the best performing iteration of it\n",
        "        msk = np.load('msk/10_%s.npy' % id)[kls]\n",
        "        # msk = msk >= trs[kls]\n",
        "        # Create correctly sizes polygons for the submission file\n",
        "        pred_polygons = mask_to_polygons(msk)\n",
        "        x_max = grid_sizes.loc[grid_sizes['ImageId'] == id, 'Xmax'].values[0]\n",
        "        y_min = grid_sizes.loc[grid_sizes['ImageId'] == id, 'Ymin'].values[0]\n",
        "\n",
        "        x_scaler, y_scaler = get_scalers(msk.shape, x_max, y_min)\n",
        "\n",
        "        scaled_pred_polygons = shapely.affinity.scale(pred_polygons, xfact=1.0 / x_scaler, yfact=1.0 / y_scaler,\n",
        "                                                      origin=(0, 0, 0))\n",
        "\n",
        "        submission.iloc[idx, 2] = shapely.wkt.dumps(scaled_pred_polygons)\n",
        "        if submission.iloc[idx, 2]==\"GEOMETRYCOLLECTION EMPTY\":\n",
        "            submission.iloc[idx, 2] = \"MULTIPOLYGON EMPTY\"\n",
        "        if idx % 100 == 0:\n",
        "            print(idx)\n",
        "    print(submission.head())\n",
        "    submission.to_csv('subm/1.csv', index=False)"
      ],
      "execution_count": 0,
      "outputs": []
    },
    {
      "cell_type": "code",
      "metadata": {
        "colab_type": "code",
        "id": "UNRbni0Z4FTT",
        "outputId": "27da9a72-9c79-4cce-a3b9-62bfe859d53d",
        "colab": {
          "base_uri": "https://localhost:8080/",
          "height": 935
        }
      },
      "source": [
        "make_submit()"
      ],
      "execution_count": 43,
      "outputs": [
        {
          "output_type": "stream",
          "text": [
            "make submission file\n",
            "0\n",
            "100\n",
            "200\n",
            "300\n",
            "400\n",
            "500\n",
            "600\n",
            "700\n",
            "800\n",
            "900\n",
            "1000\n",
            "1100\n",
            "1200\n",
            "1300\n",
            "1400\n",
            "1500\n",
            "1600\n",
            "1700\n",
            "1800\n",
            "1900\n",
            "2000\n",
            "2100\n",
            "2200\n",
            "2300\n",
            "2400\n",
            "2500\n",
            "2600\n",
            "2700\n",
            "2800\n",
            "2900\n",
            "3000\n",
            "3100\n",
            "3200\n",
            "3300\n",
            "3400\n",
            "3500\n",
            "3600\n",
            "3700\n",
            "3800\n",
            "3900\n",
            "4000\n",
            "4100\n",
            "4200\n",
            "    ImageId  ClassType                                    MultipolygonWKT\n",
            "0  6120_2_4          1  MULTIPOLYGON (((0.0005399991562500 -0.00888158...\n",
            "1  6120_2_4          2                                 MULTIPOLYGON EMPTY\n",
            "2  6120_2_4          3                                 MULTIPOLYGON EMPTY\n",
            "3  6120_2_4          4                                 MULTIPOLYGON EMPTY\n",
            "4  6120_2_4          5  MULTIPOLYGON (((0.0091684963125000 -0.00195734...\n"
          ],
          "name": "stdout"
        }
      ]
    },
    {
      "cell_type": "code",
      "metadata": {
        "colab_type": "code",
        "id": "t0xYzQnb1LTX",
        "outputId": "5a36f286-273c-4880-9999-b4b206a26f57",
        "colab": {
          "base_uri": "https://localhost:8080/",
          "height": 206
        }
      },
      "source": [
        "submission.tail()"
      ],
      "execution_count": 44,
      "outputs": [
        {
          "output_type": "execute_result",
          "data": {
            "text/html": [
              "<div>\n",
              "<style scoped>\n",
              "    .dataframe tbody tr th:only-of-type {\n",
              "        vertical-align: middle;\n",
              "    }\n",
              "\n",
              "    .dataframe tbody tr th {\n",
              "        vertical-align: top;\n",
              "    }\n",
              "\n",
              "    .dataframe thead th {\n",
              "        text-align: right;\n",
              "    }\n",
              "</style>\n",
              "<table border=\"1\" class=\"dataframe\">\n",
              "  <thead>\n",
              "    <tr style=\"text-align: right;\">\n",
              "      <th></th>\n",
              "      <th>ImageId</th>\n",
              "      <th>ClassType</th>\n",
              "      <th>MultipolygonWKT</th>\n",
              "    </tr>\n",
              "  </thead>\n",
              "  <tbody>\n",
              "    <tr>\n",
              "      <th>4285</th>\n",
              "      <td>6130_1_0</td>\n",
              "      <td>6</td>\n",
              "      <td>MULTIPOLYGON (((0.0000000000000000 -0.00446907...</td>\n",
              "    </tr>\n",
              "    <tr>\n",
              "      <th>4286</th>\n",
              "      <td>6130_1_0</td>\n",
              "      <td>7</td>\n",
              "      <td>MULTIPOLYGON (((0.0066351285562500 -0.00739943...</td>\n",
              "    </tr>\n",
              "    <tr>\n",
              "      <th>4287</th>\n",
              "      <td>6130_1_0</td>\n",
              "      <td>8</td>\n",
              "      <td>MULTIPOLYGON EMPTY</td>\n",
              "    </tr>\n",
              "    <tr>\n",
              "      <th>4288</th>\n",
              "      <td>6130_1_0</td>\n",
              "      <td>9</td>\n",
              "      <td>MULTIPOLYGON EMPTY</td>\n",
              "    </tr>\n",
              "    <tr>\n",
              "      <th>4289</th>\n",
              "      <td>6130_1_0</td>\n",
              "      <td>10</td>\n",
              "      <td>MULTIPOLYGON EMPTY</td>\n",
              "    </tr>\n",
              "  </tbody>\n",
              "</table>\n",
              "</div>"
            ],
            "text/plain": [
              "       ImageId  ClassType                                    MultipolygonWKT\n",
              "4285  6130_1_0          6  MULTIPOLYGON (((0.0000000000000000 -0.00446907...\n",
              "4286  6130_1_0          7  MULTIPOLYGON (((0.0066351285562500 -0.00739943...\n",
              "4287  6130_1_0          8                                 MULTIPOLYGON EMPTY\n",
              "4288  6130_1_0          9                                 MULTIPOLYGON EMPTY\n",
              "4289  6130_1_0         10                                 MULTIPOLYGON EMPTY"
            ]
          },
          "metadata": {
            "tags": []
          },
          "execution_count": 44
        }
      ]
    },
    {
      "cell_type": "markdown",
      "metadata": {
        "colab_type": "text",
        "id": "OVjLaFh3BPoK"
      },
      "source": [
        "## Check prediction"
      ]
    },
    {
      "cell_type": "code",
      "metadata": {
        "colab_type": "code",
        "id": "K3p85Rb3BPBy",
        "colab": {}
      },
      "source": [
        "def check_predict(id='6120_2_2'):\n",
        "    model = get_unet()\n",
        "    model.load_weights('weights/unet_10_jk0.7700')\n",
        "\n",
        "    msk = predict_id(id, model, trs)\n",
        "    img = all_image(id)\n",
        "    img = stretch_n(img)\n",
        "    plt.figure()\n",
        "    #ax1 = plt.subplot(131)\n",
        "    plt.title('image ID:6120_2_3')\n",
        "    plt.imshow(img[:, :, 5])\n",
        "    plt.show()\n",
        "    #ax2 = plt.subplot(132)\n",
        "    plt.title('predict bldg pixels')\n",
        "    plt.imshow(msk[0], cmap=plt.get_cmap('gray'))\n",
        "    plt.show() \n",
        "    #ax3 = plt.subplot(133)\n",
        "    plt.title('predict bldg polygones')\n",
        "    plt.imshow(mask_for_polygons(mask_to_polygons(msk[0], epsilon=1), img.shape[:2]), cmap=plt.get_cmap('gray'))\n",
        "\n",
        "    plt.show()"
      ],
      "execution_count": 0,
      "outputs": []
    },
    {
      "cell_type": "code",
      "metadata": {
        "colab_type": "code",
        "id": "qWktRqdaTyuU",
        "outputId": "42dbf4bf-dc83-4548-fc6c-797dfe014e36",
        "colab": {
          "base_uri": "https://localhost:8080/",
          "height": 847
        }
      },
      "source": [
        "check_predict()"
      ],
      "execution_count": 46,
      "outputs": [
        {
          "output_type": "stream",
          "text": [
            "/usr/local/lib/python3.6/dist-packages/ipykernel_launcher.py:41: UserWarning: Update your `Model` call to the Keras 2 API: `Model(inputs=Tensor(\"in..., outputs=Tensor(\"co...)`\n"
          ],
          "name": "stderr"
        },
        {
          "output_type": "display_data",
          "data": {
            "image/png": "[encoded data removed]",
            "text/plain": [
              "<Figure size 432x288 with 1 Axes>"
            ]
          },
          "metadata": {
            "tags": [],
            "needs_background": "light"
          }
        },
        {
          "output_type": "display_data",
          "data": {
            "image/png": "[encoded data removed]",
            "text/plain": [
              "<Figure size 432x288 with 1 Axes>"
            ]
          },
          "metadata": {
            "tags": [],
            "needs_background": "light"
          }
        },
        {
          "output_type": "display_data",
          "data": {
            "image/png": "[encoded data removed]",
            "text/plain": [
              "<Figure size 432x288 with 1 Axes>"
            ]
          },
          "metadata": {
            "tags": [],
            "needs_background": "light"
          }
        }
      ]
    },
    {
      "cell_type": "markdown",
      "metadata": {
        "colab_type": "text",
        "id": "5vBLdLlhczIs"
      },
      "source": [
        "## Improvemnt"
      ]
    },
    {
      "cell_type": "markdown",
      "metadata": {
        "colab_type": "text",
        "id": "Ucsc4yacc3mu"
      },
      "source": [
        "- Use large sizes of Image i.e.-1600\n",
        "- Use hyperperameter tuning for U-Net.\n",
        "- To improve, run the same U-Net model for several classes individually (change the output to only include one class). I used additional single models for buildings, structures, tracks and trees, the other predictions performed better from the 10 class model.\n",
        "\n",
        "Thanks to visoft, n01z3, Sergey Mushinskiy, Konstantin Lopuhin for the great scripts and discussions."
      ]
    },
    {
      "cell_type": "code",
      "metadata": {
        "id": "X5s8QFwWUmne",
        "colab_type": "code",
        "colab": {}
      },
      "source": [
        ""
      ],
      "execution_count": 0,
      "outputs": []
    }
  ]
}