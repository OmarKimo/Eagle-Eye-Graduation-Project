{
 "cells": [
  {
   "cell_type": "code",
   "execution_count": 1,
   "metadata": {},
   "outputs": [],
   "source": [
    "from dbfread import DBF\n",
    "import pandas as pd\n",
    "\n",
    "path = \"2D Vector\\\\Parcels.dbf\""
   ]
  },
  {
   "cell_type": "code",
   "execution_count": 2,
   "metadata": {},
   "outputs": [
    {
     "name": "stdout",
     "output_type": "stream",
     "text": [
      "      OBJECTID  FEATURE_ID  District_I  Governorat  PARCEL_TYP          A_GOV  \\\n",
      "0       666759      666759        2902          29           9  محافظه الاقصر   \n",
      "1       666760      666760        2902          29           9  محافظه الاقصر   \n",
      "2       666761      666761        2902          29           9  محافظه الاقصر   \n",
      "3       666783      666783        2902          29           4  محافظه الاقصر   \n",
      "4       666786      666786        2902          29           4  محافظه الاقصر   \n",
      "...        ...         ...         ...         ...         ...            ...   \n",
      "1017    670328      670328        2902          29          14  محافظه الاقصر   \n",
      "1018    670329      670329        2902          29           9  محافظه الاقصر   \n",
      "1019    670330      670330        2902          29           9  محافظه الاقصر   \n",
      "1020    670613      670613        2902          29           9  محافظه الاقصر   \n",
      "1021    670614      670614        2902          29           9  محافظه الاقصر   \n",
      "\n",
      "       A_DISTRICT  SHAPE_Leng    SHAPE_Area  \n",
      "0     مركز الاقصر   77.098015    350.230631  \n",
      "1     مركز الاقصر   65.923561    246.917805  \n",
      "2     مركز الاقصر  119.064962    749.449917  \n",
      "3     مركز الاقصر  895.366017  45532.432552  \n",
      "4     مركز الاقصر  943.043803  27905.066564  \n",
      "...           ...         ...           ...  \n",
      "1017  مركز الاقصر  197.904446   1247.949290  \n",
      "1018  مركز الاقصر  142.520093   1248.567895  \n",
      "1019  مركز الاقصر   83.909660    361.848532  \n",
      "1020  مركز الاقصر  131.322813   1029.846894  \n",
      "1021  مركز الاقصر  103.950829    614.523304  \n",
      "\n",
      "[1022 rows x 9 columns]\n"
     ]
    }
   ],
   "source": [
    "dbf = DBF(path, encoding='utf-8')\n",
    "dbf = pd.DataFrame(dbf)\n",
    "print(dbf)"
   ]
  },
  {
   "cell_type": "code",
   "execution_count": 3,
   "metadata": {},
   "outputs": [
    {
     "name": "stdout",
     "output_type": "stream",
     "text": [
      "<class 'pandas.core.frame.DataFrame'>\n",
      "RangeIndex: 1022 entries, 0 to 1021\n",
      "Data columns (total 9 columns):\n",
      " #   Column      Non-Null Count  Dtype  \n",
      "---  ------      --------------  -----  \n",
      " 0   OBJECTID    1022 non-null   int64  \n",
      " 1   FEATURE_ID  1022 non-null   int64  \n",
      " 2   District_I  1022 non-null   int64  \n",
      " 3   Governorat  1022 non-null   int64  \n",
      " 4   PARCEL_TYP  1022 non-null   int64  \n",
      " 5   A_GOV       1022 non-null   object \n",
      " 6   A_DISTRICT  1022 non-null   object \n",
      " 7   SHAPE_Leng  1022 non-null   float64\n",
      " 8   SHAPE_Area  1022 non-null   float64\n",
      "dtypes: float64(2), int64(5), object(2)\n",
      "memory usage: 72.0+ KB\n"
     ]
    }
   ],
   "source": [
    "dbf.info()"
   ]
  },
  {
   "cell_type": "code",
   "execution_count": 4,
   "metadata": {},
   "outputs": [
    {
     "data": {
      "text/html": [
       "<div>\n",
       "<style scoped>\n",
       "    .dataframe tbody tr th:only-of-type {\n",
       "        vertical-align: middle;\n",
       "    }\n",
       "\n",
       "    .dataframe tbody tr th {\n",
       "        vertical-align: top;\n",
       "    }\n",
       "\n",
       "    .dataframe thead th {\n",
       "        text-align: right;\n",
       "    }\n",
       "</style>\n",
       "<table border=\"1\" class=\"dataframe\">\n",
       "  <thead>\n",
       "    <tr style=\"text-align: right;\">\n",
       "      <th></th>\n",
       "      <th>OBJECTID</th>\n",
       "      <th>FEATURE_ID</th>\n",
       "      <th>District_I</th>\n",
       "      <th>Governorat</th>\n",
       "      <th>PARCEL_TYP</th>\n",
       "      <th>A_GOV</th>\n",
       "      <th>A_DISTRICT</th>\n",
       "      <th>SHAPE_Leng</th>\n",
       "      <th>SHAPE_Area</th>\n",
       "    </tr>\n",
       "  </thead>\n",
       "  <tbody>\n",
       "    <tr>\n",
       "      <th>0</th>\n",
       "      <td>666759</td>\n",
       "      <td>666759</td>\n",
       "      <td>2902</td>\n",
       "      <td>29</td>\n",
       "      <td>9</td>\n",
       "      <td>محافظه الاقصر</td>\n",
       "      <td>مركز الاقصر</td>\n",
       "      <td>77.098015</td>\n",
       "      <td>350.230631</td>\n",
       "    </tr>\n",
       "    <tr>\n",
       "      <th>1</th>\n",
       "      <td>666760</td>\n",
       "      <td>666760</td>\n",
       "      <td>2902</td>\n",
       "      <td>29</td>\n",
       "      <td>9</td>\n",
       "      <td>محافظه الاقصر</td>\n",
       "      <td>مركز الاقصر</td>\n",
       "      <td>65.923561</td>\n",
       "      <td>246.917805</td>\n",
       "    </tr>\n",
       "    <tr>\n",
       "      <th>2</th>\n",
       "      <td>666761</td>\n",
       "      <td>666761</td>\n",
       "      <td>2902</td>\n",
       "      <td>29</td>\n",
       "      <td>9</td>\n",
       "      <td>محافظه الاقصر</td>\n",
       "      <td>مركز الاقصر</td>\n",
       "      <td>119.064962</td>\n",
       "      <td>749.449917</td>\n",
       "    </tr>\n",
       "    <tr>\n",
       "      <th>3</th>\n",
       "      <td>666783</td>\n",
       "      <td>666783</td>\n",
       "      <td>2902</td>\n",
       "      <td>29</td>\n",
       "      <td>4</td>\n",
       "      <td>محافظه الاقصر</td>\n",
       "      <td>مركز الاقصر</td>\n",
       "      <td>895.366017</td>\n",
       "      <td>45532.432552</td>\n",
       "    </tr>\n",
       "    <tr>\n",
       "      <th>4</th>\n",
       "      <td>666786</td>\n",
       "      <td>666786</td>\n",
       "      <td>2902</td>\n",
       "      <td>29</td>\n",
       "      <td>4</td>\n",
       "      <td>محافظه الاقصر</td>\n",
       "      <td>مركز الاقصر</td>\n",
       "      <td>943.043803</td>\n",
       "      <td>27905.066564</td>\n",
       "    </tr>\n",
       "  </tbody>\n",
       "</table>\n",
       "</div>"
      ],
      "text/plain": [
       "   OBJECTID  FEATURE_ID  District_I  Governorat  PARCEL_TYP          A_GOV  \\\n",
       "0    666759      666759        2902          29           9  محافظه الاقصر   \n",
       "1    666760      666760        2902          29           9  محافظه الاقصر   \n",
       "2    666761      666761        2902          29           9  محافظه الاقصر   \n",
       "3    666783      666783        2902          29           4  محافظه الاقصر   \n",
       "4    666786      666786        2902          29           4  محافظه الاقصر   \n",
       "\n",
       "    A_DISTRICT  SHAPE_Leng    SHAPE_Area  \n",
       "0  مركز الاقصر   77.098015    350.230631  \n",
       "1  مركز الاقصر   65.923561    246.917805  \n",
       "2  مركز الاقصر  119.064962    749.449917  \n",
       "3  مركز الاقصر  895.366017  45532.432552  \n",
       "4  مركز الاقصر  943.043803  27905.066564  "
      ]
     },
     "execution_count": 4,
     "metadata": {},
     "output_type": "execute_result"
    }
   ],
   "source": [
    "dbf.head()"
   ]
  },
  {
   "cell_type": "code",
   "execution_count": 5,
   "metadata": {},
   "outputs": [
    {
     "name": "stdout",
     "output_type": "stream",
     "text": [
      "{1, 4, 5, 7, 9, 14}\n"
     ]
    }
   ],
   "source": [
    "print(set(list(dbf['PARCEL_TYP'].values)))"
   ]
  },
  {
   "cell_type": "code",
   "execution_count": null,
   "metadata": {},
   "outputs": [],
   "source": []
  },
  {
   "cell_type": "code",
   "execution_count": null,
   "metadata": {},
   "outputs": [],
   "source": []
  },
  {
   "cell_type": "code",
   "execution_count": null,
   "metadata": {},
   "outputs": [],
   "source": []
  },
  {
   "cell_type": "code",
   "execution_count": null,
   "metadata": {},
   "outputs": [],
   "source": []
  },
  {
   "cell_type": "code",
   "execution_count": null,
   "metadata": {},
   "outputs": [],
   "source": []
  }
 ],
 "metadata": {
  "kernelspec": {
   "display_name": "Python 3",
   "language": "python",
   "name": "python3"
  },
  "language_info": {
   "codemirror_mode": {
    "name": "ipython",
    "version": 3
   },
   "file_extension": ".py",
   "mimetype": "text/x-python",
   "name": "python",
   "nbconvert_exporter": "python",
   "pygments_lexer": "ipython3",
   "version": "3.7.7"
  }
 },
 "nbformat": 4,
 "nbformat_minor": 4
}
